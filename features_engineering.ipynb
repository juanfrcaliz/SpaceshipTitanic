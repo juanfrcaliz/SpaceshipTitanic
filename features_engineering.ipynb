{
 "cells": [
  {
   "cell_type": "code",
   "execution_count": 1,
   "outputs": [],
   "source": [
    "import pandas as pd\n",
    "import numpy as np"
   ],
   "metadata": {
    "collapsed": false,
    "pycharm": {
     "name": "#%%\n"
    }
   }
  },
  {
   "cell_type": "code",
   "execution_count": 2,
   "outputs": [
    {
     "data": {
      "text/plain": "   CryoSleep  Age  VIP  RoomService  FoodCourt  ShoppingMall   Spa  VRDeck  \\\n0          0   39    0            0          0             0     0       0   \n1          0   24    0          109          9            25   549      44   \n2          0   58    1           43       3576             0  6715      49   \n3          0   33    0            0       1283           371  3329     193   \n4          0   16    0          303         70           151   565       2   \n\n   TotalSpent  Cabin_num  ...  Cabin_deck_D  Cabin_deck_E  Cabin_deck_F  \\\n0         0.0          0  ...             0             0             0   \n1       736.0          0  ...             0             0             1   \n2     10383.0          0  ...             0             0             0   \n3      5176.0          0  ...             0             0             0   \n4      1091.0          1  ...             0             0             1   \n\n   Cabin_deck_G  Cabin_deck_T  Cabin_deck_blank  Destination_55 Cancri e  \\\n0             0             0                 0                        0   \n1             0             0                 0                        0   \n2             0             0                 0                        0   \n3             0             0                 0                        0   \n4             0             0                 0                        0   \n\n   Destination_PSO J318.5-22  Destination_TRAPPIST-1e  Destination_blank  \n0                          0                        1                  0  \n1                          0                        1                  0  \n2                          0                        1                  0  \n3                          0                        1                  0  \n4                          0                        1                  0  \n\n[5 rows x 32 columns]",
      "text/html": "<div>\n<style scoped>\n    .dataframe tbody tr th:only-of-type {\n        vertical-align: middle;\n    }\n\n    .dataframe tbody tr th {\n        vertical-align: top;\n    }\n\n    .dataframe thead th {\n        text-align: right;\n    }\n</style>\n<table border=\"1\" class=\"dataframe\">\n  <thead>\n    <tr style=\"text-align: right;\">\n      <th></th>\n      <th>CryoSleep</th>\n      <th>Age</th>\n      <th>VIP</th>\n      <th>RoomService</th>\n      <th>FoodCourt</th>\n      <th>ShoppingMall</th>\n      <th>Spa</th>\n      <th>VRDeck</th>\n      <th>TotalSpent</th>\n      <th>Cabin_num</th>\n      <th>...</th>\n      <th>Cabin_deck_D</th>\n      <th>Cabin_deck_E</th>\n      <th>Cabin_deck_F</th>\n      <th>Cabin_deck_G</th>\n      <th>Cabin_deck_T</th>\n      <th>Cabin_deck_blank</th>\n      <th>Destination_55 Cancri e</th>\n      <th>Destination_PSO J318.5-22</th>\n      <th>Destination_TRAPPIST-1e</th>\n      <th>Destination_blank</th>\n    </tr>\n  </thead>\n  <tbody>\n    <tr>\n      <th>0</th>\n      <td>0</td>\n      <td>39</td>\n      <td>0</td>\n      <td>0</td>\n      <td>0</td>\n      <td>0</td>\n      <td>0</td>\n      <td>0</td>\n      <td>0.0</td>\n      <td>0</td>\n      <td>...</td>\n      <td>0</td>\n      <td>0</td>\n      <td>0</td>\n      <td>0</td>\n      <td>0</td>\n      <td>0</td>\n      <td>0</td>\n      <td>0</td>\n      <td>1</td>\n      <td>0</td>\n    </tr>\n    <tr>\n      <th>1</th>\n      <td>0</td>\n      <td>24</td>\n      <td>0</td>\n      <td>109</td>\n      <td>9</td>\n      <td>25</td>\n      <td>549</td>\n      <td>44</td>\n      <td>736.0</td>\n      <td>0</td>\n      <td>...</td>\n      <td>0</td>\n      <td>0</td>\n      <td>1</td>\n      <td>0</td>\n      <td>0</td>\n      <td>0</td>\n      <td>0</td>\n      <td>0</td>\n      <td>1</td>\n      <td>0</td>\n    </tr>\n    <tr>\n      <th>2</th>\n      <td>0</td>\n      <td>58</td>\n      <td>1</td>\n      <td>43</td>\n      <td>3576</td>\n      <td>0</td>\n      <td>6715</td>\n      <td>49</td>\n      <td>10383.0</td>\n      <td>0</td>\n      <td>...</td>\n      <td>0</td>\n      <td>0</td>\n      <td>0</td>\n      <td>0</td>\n      <td>0</td>\n      <td>0</td>\n      <td>0</td>\n      <td>0</td>\n      <td>1</td>\n      <td>0</td>\n    </tr>\n    <tr>\n      <th>3</th>\n      <td>0</td>\n      <td>33</td>\n      <td>0</td>\n      <td>0</td>\n      <td>1283</td>\n      <td>371</td>\n      <td>3329</td>\n      <td>193</td>\n      <td>5176.0</td>\n      <td>0</td>\n      <td>...</td>\n      <td>0</td>\n      <td>0</td>\n      <td>0</td>\n      <td>0</td>\n      <td>0</td>\n      <td>0</td>\n      <td>0</td>\n      <td>0</td>\n      <td>1</td>\n      <td>0</td>\n    </tr>\n    <tr>\n      <th>4</th>\n      <td>0</td>\n      <td>16</td>\n      <td>0</td>\n      <td>303</td>\n      <td>70</td>\n      <td>151</td>\n      <td>565</td>\n      <td>2</td>\n      <td>1091.0</td>\n      <td>1</td>\n      <td>...</td>\n      <td>0</td>\n      <td>0</td>\n      <td>1</td>\n      <td>0</td>\n      <td>0</td>\n      <td>0</td>\n      <td>0</td>\n      <td>0</td>\n      <td>1</td>\n      <td>0</td>\n    </tr>\n  </tbody>\n</table>\n<p>5 rows × 32 columns</p>\n</div>"
     },
     "execution_count": 2,
     "metadata": {},
     "output_type": "execute_result"
    }
   ],
   "source": [
    "data = pd.read_csv('data/imputed_variables.csv', index_col=0)\n",
    "data.head()"
   ],
   "metadata": {
    "collapsed": false,
    "pycharm": {
     "name": "#%%\n"
    }
   }
  },
  {
   "cell_type": "code",
   "execution_count": 3,
   "outputs": [
    {
     "data": {
      "text/plain": "   CryoSleep  Age  VIP  RoomService  FoodCourt  ShoppingMall   Spa  VRDeck  \\\n0          0   39    0            0          0             0     0       0   \n1          0   24    0          109          9            25   549      44   \n2          0   58    1           43       3576             0  6715      49   \n3          0   33    0            0       1283           371  3329     193   \n4          0   16    0          303         70           151   565       2   \n\n   TotalSpent  Cabin_num  ...  Destination_55 Cancri e  \\\n0         0.0          0  ...                        0   \n1       736.0          0  ...                        0   \n2     10383.0          0  ...                        0   \n3      5176.0          0  ...                        0   \n4      1091.0          1  ...                        0   \n\n   Destination_PSO J318.5-22  Destination_TRAPPIST-1e  Destination_blank  \\\n0                          0                        1                  0   \n1                          0                        1                  0   \n2                          0                        1                  0   \n3                          0                        1                  0   \n4                          0                        1                  0   \n\n   RoomService_zero  FoodCourt_zero  ShoppingMall_zero  VRDeck_zero  Spa_zero  \\\n0                 1               1                  1            1         1   \n1                 0               0                  0            0         0   \n2                 0               0                  1            0         0   \n3                 1               0                  0            0         0   \n4                 0               0                  0            0         0   \n\n   TotalSpent_zero  \n0                1  \n1                0  \n2                0  \n3                0  \n4                0  \n\n[5 rows x 38 columns]",
      "text/html": "<div>\n<style scoped>\n    .dataframe tbody tr th:only-of-type {\n        vertical-align: middle;\n    }\n\n    .dataframe tbody tr th {\n        vertical-align: top;\n    }\n\n    .dataframe thead th {\n        text-align: right;\n    }\n</style>\n<table border=\"1\" class=\"dataframe\">\n  <thead>\n    <tr style=\"text-align: right;\">\n      <th></th>\n      <th>CryoSleep</th>\n      <th>Age</th>\n      <th>VIP</th>\n      <th>RoomService</th>\n      <th>FoodCourt</th>\n      <th>ShoppingMall</th>\n      <th>Spa</th>\n      <th>VRDeck</th>\n      <th>TotalSpent</th>\n      <th>Cabin_num</th>\n      <th>...</th>\n      <th>Destination_55 Cancri e</th>\n      <th>Destination_PSO J318.5-22</th>\n      <th>Destination_TRAPPIST-1e</th>\n      <th>Destination_blank</th>\n      <th>RoomService_zero</th>\n      <th>FoodCourt_zero</th>\n      <th>ShoppingMall_zero</th>\n      <th>VRDeck_zero</th>\n      <th>Spa_zero</th>\n      <th>TotalSpent_zero</th>\n    </tr>\n  </thead>\n  <tbody>\n    <tr>\n      <th>0</th>\n      <td>0</td>\n      <td>39</td>\n      <td>0</td>\n      <td>0</td>\n      <td>0</td>\n      <td>0</td>\n      <td>0</td>\n      <td>0</td>\n      <td>0.0</td>\n      <td>0</td>\n      <td>...</td>\n      <td>0</td>\n      <td>0</td>\n      <td>1</td>\n      <td>0</td>\n      <td>1</td>\n      <td>1</td>\n      <td>1</td>\n      <td>1</td>\n      <td>1</td>\n      <td>1</td>\n    </tr>\n    <tr>\n      <th>1</th>\n      <td>0</td>\n      <td>24</td>\n      <td>0</td>\n      <td>109</td>\n      <td>9</td>\n      <td>25</td>\n      <td>549</td>\n      <td>44</td>\n      <td>736.0</td>\n      <td>0</td>\n      <td>...</td>\n      <td>0</td>\n      <td>0</td>\n      <td>1</td>\n      <td>0</td>\n      <td>0</td>\n      <td>0</td>\n      <td>0</td>\n      <td>0</td>\n      <td>0</td>\n      <td>0</td>\n    </tr>\n    <tr>\n      <th>2</th>\n      <td>0</td>\n      <td>58</td>\n      <td>1</td>\n      <td>43</td>\n      <td>3576</td>\n      <td>0</td>\n      <td>6715</td>\n      <td>49</td>\n      <td>10383.0</td>\n      <td>0</td>\n      <td>...</td>\n      <td>0</td>\n      <td>0</td>\n      <td>1</td>\n      <td>0</td>\n      <td>0</td>\n      <td>0</td>\n      <td>1</td>\n      <td>0</td>\n      <td>0</td>\n      <td>0</td>\n    </tr>\n    <tr>\n      <th>3</th>\n      <td>0</td>\n      <td>33</td>\n      <td>0</td>\n      <td>0</td>\n      <td>1283</td>\n      <td>371</td>\n      <td>3329</td>\n      <td>193</td>\n      <td>5176.0</td>\n      <td>0</td>\n      <td>...</td>\n      <td>0</td>\n      <td>0</td>\n      <td>1</td>\n      <td>0</td>\n      <td>1</td>\n      <td>0</td>\n      <td>0</td>\n      <td>0</td>\n      <td>0</td>\n      <td>0</td>\n    </tr>\n    <tr>\n      <th>4</th>\n      <td>0</td>\n      <td>16</td>\n      <td>0</td>\n      <td>303</td>\n      <td>70</td>\n      <td>151</td>\n      <td>565</td>\n      <td>2</td>\n      <td>1091.0</td>\n      <td>1</td>\n      <td>...</td>\n      <td>0</td>\n      <td>0</td>\n      <td>1</td>\n      <td>0</td>\n      <td>0</td>\n      <td>0</td>\n      <td>0</td>\n      <td>0</td>\n      <td>0</td>\n      <td>0</td>\n    </tr>\n  </tbody>\n</table>\n<p>5 rows × 38 columns</p>\n</div>"
     },
     "execution_count": 3,
     "metadata": {},
     "output_type": "execute_result"
    }
   ],
   "source": [
    "bill_columns = ['RoomService', 'FoodCourt', 'ShoppingMall', 'VRDeck', 'Spa', 'TotalSpent']\n",
    "for bill in bill_columns:\n",
    "    new_var = f'{bill}_zero'\n",
    "    data[new_var] = np.where(data[bill] == 0, 1, 0)\n",
    "\n",
    "data.head()"
   ],
   "metadata": {
    "collapsed": false,
    "pycharm": {
     "name": "#%%\n"
    }
   }
  },
  {
   "cell_type": "code",
   "execution_count": 5,
   "outputs": [],
   "source": [
    "data.to_csv('data/features_engineered.csv')"
   ],
   "metadata": {
    "collapsed": false,
    "pycharm": {
     "name": "#%%\n"
    }
   }
  }
 ],
 "metadata": {
  "kernelspec": {
   "display_name": "Python 3",
   "language": "python",
   "name": "python3"
  },
  "language_info": {
   "codemirror_mode": {
    "name": "ipython",
    "version": 2
   },
   "file_extension": ".py",
   "mimetype": "text/x-python",
   "name": "python",
   "nbconvert_exporter": "python",
   "pygments_lexer": "ipython2",
   "version": "2.7.6"
  }
 },
 "nbformat": 4,
 "nbformat_minor": 0
}